{
 "cells": [
  {
   "cell_type": "code",
   "execution_count": 1,
   "id": "9772344c-f5c7-4811-920d-5ba0e56bde34",
   "metadata": {},
   "outputs": [],
   "source": [
    "import pandas as pd\n",
    "import numpy as np\n",
    "import matplotlib.pyplot as plt\n",
    "import seaborn as sns"
   ]
  },
  {
   "cell_type": "code",
   "execution_count": 3,
   "id": "c2ddc57d-f30c-4473-bbab-86df342749c0",
   "metadata": {},
   "outputs": [
    {
     "name": "stdout",
     "output_type": "stream",
     "text": [
      "Collecting fpdf\n",
      "  Downloading fpdf-1.7.2.tar.gz (39 kB)\n",
      "  Preparing metadata (setup.py): started\n",
      "  Preparing metadata (setup.py): finished with status 'done'\n",
      "Building wheels for collected packages: fpdf\n",
      "  Building wheel for fpdf (setup.py): started\n",
      "  Building wheel for fpdf (setup.py): finished with status 'done'\n",
      "  Created wheel for fpdf: filename=fpdf-1.7.2-py2.py3-none-any.whl size=40713 sha256=dd2462a104c32bfb3df135dcbc07fe5ce7a524522988b3e0fae58a0082a2f7fd\n",
      "  Stored in directory: c:\\users\\athar\\appdata\\local\\pip\\cache\\wheels\\6e\\62\\11\\dc73d78e40a218ad52e7451f30166e94491be013a7850b5d75\n",
      "Successfully built fpdf\n",
      "Installing collected packages: fpdf\n",
      "Successfully installed fpdf-1.7.2\n",
      "Note: you may need to restart the kernel to use updated packages.\n"
     ]
    }
   ],
   "source": [
    "pip install fpdf"
   ]
  },
  {
   "cell_type": "code",
   "execution_count": 21,
   "id": "50de6716-b85b-427d-ab72-226c5881ab2f",
   "metadata": {},
   "outputs": [
    {
     "name": "stdout",
     "output_type": "stream",
     "text": [
      "Report generated and saved as report.pdf\n"
     ]
    }
   ],
   "source": [
    "from fpdf import FPDF\n",
    "\n",
    "# Step 1: Read data from the file\n",
    "def read_data_from_file(file_path):\n",
    "    with open(r\"C:\\Users\\athar\\Downloads\\data.txt\\data.txt\") as file:\n",
    "        data = file.readlines()\n",
    "    numerical_data = []\n",
    "    for line in data:\n",
    "        try:\n",
    "            \n",
    "            numerical_data.append(float(line.strip()))\n",
    "        except ValueError:\n",
    "        \n",
    "            values = line.strip().split()\n",
    "            for value in values:\n",
    "                try:\n",
    "                    numerical_data.append(float(value))\n",
    "                except ValueError:\n",
    "                    # Ignore values that cannot be converted\n",
    "                    pass\n",
    "    return numerical_data\n",
    "\n",
    "# Step 2: Analyzing the data \n",
    "def analyze_data(data):\n",
    "    total = sum(data)\n",
    "    average = total / len(data) if len(data) > 0 else 0\n",
    "    minimum = min(data)\n",
    "    maximum = max(data)\n",
    "    \n",
    "    # Return the analysis as a dictionary\n",
    "    return {\n",
    "        \"total\": total,\n",
    "        \"average\": average,\n",
    "        \"minimum\": minimum,\n",
    "        \"maximum\": maximum\n",
    "    }\n",
    "\n",
    "# Step 3: Generate PDF report using FPDF\n",
    "def generate_pdf_report(analysis, output_file):\n",
    "    # Create PDF object\n",
    "    pdf = FPDF()\n",
    "    pdf.set_auto_page_break(auto=True, margin=15)\n",
    "    pdf.add_page()\n",
    "\n",
    "    \n",
    "    pdf.set_font(\"Arial\", 'B', 16)\n",
    "    pdf.cell(200, 10, txt=\"Data Analysis Report\", ln=True, align='C')\n",
    "\n",
    "    \n",
    "    pdf.ln(10)\n",
    "\n",
    "    \n",
    "    pdf.set_font(\"Arial\", size=12)\n",
    "    \n",
    "    pdf.cell(200, 10, txt=f\"Total: {analysis['total']}\", ln=True)\n",
    "    pdf.cell(200, 10, txt=f\"Average: {analysis['average']:.2f}\", ln=True)\n",
    "    pdf.cell(200, 10, txt=f\"Minimum: {analysis['minimum']}\", ln=True)\n",
    "    pdf.cell(200, 10, txt=f\"Maximum: {analysis['maximum']}\", ln=True)\n",
    "\n",
    "    # Output the PDF\n",
    "    pdf.output(output_file)\n",
    "\n",
    "def main():\n",
    "    \n",
    "    file_path = \"data.txt\"\n",
    "    data = read_data_from_file(file_path)\n",
    "    \n",
    "    \n",
    "    analysis = analyze_data(data)\n",
    "    \n",
    "    \n",
    "    output_pdf = \"report.pdf\"\n",
    "    generate_pdf_report(analysis, output_pdf)\n",
    "    print(f\"Report generated and saved as {output_pdf}\")\n",
    "\n",
    "if __name__ == \"__main__\":\n",
    "    main()"
   ]
  }
 ],
 "metadata": {
  "kernelspec": {
   "display_name": "Python 3 (ipykernel)",
   "language": "python",
   "name": "python3"
  },
  "language_info": {
   "codemirror_mode": {
    "name": "ipython",
    "version": 3
   },
   "file_extension": ".py",
   "mimetype": "text/x-python",
   "name": "python",
   "nbconvert_exporter": "python",
   "pygments_lexer": "ipython3",
   "version": "3.12.4"
  }
 },
 "nbformat": 4,
 "nbformat_minor": 5
}
